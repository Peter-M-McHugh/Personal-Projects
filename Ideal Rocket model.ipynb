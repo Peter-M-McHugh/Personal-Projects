{
 "cells": [
  {
   "cell_type": "code",
   "execution_count": 36,
   "id": "4e46b896",
   "metadata": {},
   "outputs": [],
   "source": [
    "import numpy as np\n",
    "import matplotlib.pyplot as plt\n",
    "plt.style.use('fivethirtyeight')"
   ]
  },
  {
   "cell_type": "markdown",
   "id": "21e0f655",
   "metadata": {},
   "source": []
  },
  {
   "cell_type": "code",
   "execution_count": 37,
   "id": "ea3363d2",
   "metadata": {},
   "outputs": [],
   "source": [
    "def simplerocket(state,dmdt=0.05, u=250):\n",
    "\n",
    "    '''Computes the right-hand side of the differential equation\n",
    "    for the acceleration of a rocket, without drag or gravity, in SI units.\n",
    "    Arguments\n",
    "    ----------\n",
    "    state : array of three dependent variables [y v m]^T\n",
    "    dmdt : mass rate change of rocket in kilograms/s default set to 0.05 kg/s\n",
    "    u : speed of propellent expelled (default is 250 m/s)\n",
    "    Returns\n",
    "    -------\n",
    "    derivs: array of three derivatives [v (u/m*dmdt-g-c/mv^2) -dmdt]^T\n",
    "    '''\n",
    "    dstate = np.zeros(np.shape(state))\n",
    "    y0 = state[0]\n",
    "    v = state[1]\n",
    "    m = state[2]\n",
    "    a = (u/m)*dmdt\n",
    "    dmdt = -dmdt\n",
    "    dstate = np.array([v,a,dmdt])\n",
    "    return dstate"
   ]
  },
  {
   "cell_type": "code",
   "execution_count": 38,
   "id": "265f78dc",
   "metadata": {},
   "outputs": [],
   "source": [
    "m0=0.25\n",
    "mf=0.05\n",
    "dm=0.05\n",
    "t = np.linspace(0,(m0-mf)/dm,500)\n",
    "dt=t[1]-t[0]"
   ]
  },
  {
   "cell_type": "code",
   "execution_count": 39,
   "id": "309f7012",
   "metadata": {},
   "outputs": [],
   "source": [
    "# Defines a function for the runge-kutta method of integration\n",
    "\n",
    "def rk2_step(state, rhs, dt):\n",
    "\n",
    "    '''Update a state to the next time increment using modified Euler's method.\n",
    "\n",
    "    1\n",
    "\n",
    "    Arguments\n",
    "    ---------\n",
    "    state : array of dependent variables\n",
    "    rhs : function that computes the RHS of the DiffEq\n",
    "    dt : float, time increment\n",
    "    Returns\n",
    "    -------\n",
    "    next_state : array, updated after one time increment'''\n",
    "    mid_state = state + rhs(state) * (dt*0.5)\n",
    "    next_state = state + rhs(mid_state)*dt\n",
    "    return next_state"
   ]
  },
  {
   "cell_type": "code",
   "execution_count": 40,
   "id": "0901c9c9",
   "metadata": {},
   "outputs": [],
   "source": [
    "st = [0,0,0.25]\n",
    "values = np.zeros((len(t),3))\n",
    "values[0] = st\n",
    "# values is the time integral of dstate, which is equal to [y,v,m]\n",
    "for i in range(len(t)-1):\n",
    "    values[i+1] = rk2_step(values[i], simplerocket, dt)"
   ]
  },
  {
   "cell_type": "code",
   "execution_count": 41,
   "id": "4aae1ff7",
   "metadata": {},
   "outputs": [],
   "source": [
    "P = values[:,0]\n",
    "v = values[:,1]\n",
    "m = values[:,2]\n",
    "v0 = v[0]\n",
    "m0 = m[0]\n",
    "u = 250\n",
    "mr_int = np.zeros(len(t))\n",
    "mr_an = mr_int\n",
    "dv = np.zeros(len(t))\n",
    "#mr_int is mass ratio for integration method above\n",
    "#mr_an is mass ratio for analytical method\n",
    "for i in range(len(t)-1):\n",
    "    mr_int[i] = m[i]/m[0]\n",
    "    dv[i] = v[i]-v[0]\n",
    "    mr_an[i] = np.e**(-dv[i]/u)"
   ]
  },
  {
   "cell_type": "code",
   "execution_count": 45,
   "id": "8fec9f28",
   "metadata": {},
   "outputs": [
    {
     "data": {
      "image/png": "[encoded data removed]",
      "text/plain": [
       "<Figure size 432x288 with 1 Axes>"
      ]
     },
     "metadata": {},
     "output_type": "display_data"
    }
   ],
   "source": [
    "# Final point of each element removed because it goes to zero at that point\n",
    "\n",
    "plt.plot(t[:-1],mr_int[:-1], 'r-',label = 'Integration method');\n",
    "plt.plot(t[:-1],mr_an[:-1], 'k:', label = 'Analytical method');\n",
    "\n",
    "\n",
    "plt.title(\"Mass ratio by different methods\")\n",
    "plt.ylabel(\"mf/m0\")\n",
    "plt.xlabel(\"Time (s)\")\n",
    "plt.ylim(0,1)\n",
    "plt.legend();\n"
   ]
  },
  {
   "cell_type": "markdown",
   "id": "474d5b3f",
   "metadata": {},
   "source": []
  },
  {
   "cell_type": "code",
   "execution_count": 46,
   "id": "016bc6d7",
   "metadata": {},
   "outputs": [],
   "source": [
    "def rocket(state,dmdt=0.05, u=250,c=0.18e-3):\n",
    "\n",
    "    '''Computes the right-hand side of the differential equation\n",
    "    for the acceleration of a rocket, with drag, in SI units.\n",
    "    Arguments\n",
    "    ----------\n",
    "    state : array of three dependent variables [y v m]^T\n",
    "    dmdt : mass rate change of rocket in kilograms/s default set to 0.05 kg/s\n",
    "    u : speed of propellent expelled (default is 250 m/s)\n",
    "    c : drag constant for a rocket set to 0.18e-3 kg/m\n",
    "    Returns\n",
    "    -------\n",
    "    derivs: array of three derivatives [v (u/m*dmdt-g-c/mv^2) -dmdt]^T\n",
    "\n",
    "    3\n",
    "\n",
    "    '''\n",
    "    g=9.81\n",
    "    dstate = np.zeros(np.shape(state))\n",
    "    y0 = state[0]\n",
    "    v = state[1]\n",
    "    m = state[2]\n",
    "    a = (u/m)*dmdt-g-c*v**2/m\n",
    "    dmdt = -dmdt\n",
    "    dstate = np.array([v,a,dmdt], dtype = object)\n",
    "    return dstate"
   ]
  },
  {
   "cell_type": "code",
   "execution_count": 47,
   "id": "e4af0245",
   "metadata": {},
   "outputs": [],
   "source": [
    "st = [0,0,0.25]\n",
    "values2 = np.zeros((len(t),3))\n",
    "values2[0] = st\n",
    "# values is the time integral of dstate, which is equal to [y,v,m]\n",
    "for i in range(len(t)-1):\n",
    "    values2[i+1] = rk2_step(values2[i], rocket, dt)"
   ]
  },
  {
   "cell_type": "code",
   "execution_count": 49,
   "id": "cc4b96f9",
   "metadata": {},
   "outputs": [
    {
     "name": "stdout",
     "output_type": "stream",
     "text": [
      "The rocket reaches a height of 597.637959339353 with no drag and 425.4431801148287 with drag\n"
     ]
    },
    {
     "data": {
      "image/png": "[encoded data removed]",
      "text/plain": [
       "<Figure size 432x288 with 1 Axes>"
      ]
     },
     "metadata": {},
     "output_type": "display_data"
    }
   ],
   "source": [
    "P2 = values2[:,0]\n",
    "plt.plot(t, P, label = 'No drag');\n",
    "plt.plot(t, P2, label = 'Drag');\n",
    "plt.legend();\n",
    "plt.ylabel(\"Height (m)\")\n",
    "plt.xlabel(\"Time (s)\")\n",
    "plt.title(\"Firework height over time drag vs. no drag\")\n",
    "print(f\"The rocket reaches a height of {P[-1]} with no drag and {P2[-1]} with drag\")"
   ]
  },
  {
   "cell_type": "markdown",
   "id": "5ce62ada",
   "metadata": {},
   "source": []
  },
  {
   "cell_type": "code",
   "execution_count": 50,
   "id": "fd3b2a3b",
   "metadata": {},
   "outputs": [],
   "source": [
    "def f_dm(dmdt, m0 = 0.25, c = 0.18e-3, u = 250):\n",
    "    ''' define a function f_dm(dmdt) that returns\n",
    "    height_desired-height_predicted[-1]\n",
    "    here, the time span is based upon the value of dmdt\n",
    "    arguments:\n",
    "    ---------\n",
    "    dmdt: the unknown mass change rate\n",
    "    m0: the known initial mass\n",
    "    c: the known drag in kg/m\n",
    "    u: the known speed of the propellent\n",
    "    returns:\n",
    "    --------\n",
    "    error: the difference between height_desired and height_predicted[-1]\n",
    "    when f_dm(dmdt) = 0, the correct mass change rate was chosen\n",
    "    '''\n",
    "    state = [0,0,0.25]\n",
    "    g=9.81\n",
    "    dstate = np.zeros(np.shape(state))\n",
    "    y0 = state[0]\n",
    "    v = state[1]\n",
    "    m = state[2]\n",
    "    a = (u/m)*dmdt-g-c*v**2/m\n",
    "    dmdt = -dmdt\n",
    "    dstate = np.array([v,a,dmdt])\n",
    "    # values is the time integral of dstate, which is equal to [y,v,m]\n",
    "    mf=0.05\n",
    "    t = np.linspace(0,(m0-mf)/dmdt,500)\n",
    "    dt=t[1]-t[0]\n",
    "    values2 = np.zeros((len(t),3))\n",
    "    values2[0] = state\n",
    "    for i in range(len(t)-1):\n",
    "        values2[i+1] = rk2_step(values2[i], rocket, dt)\n",
    "    height = abs(values2[-1,0])\n",
    "    height_desired = 300\n",
    "    error = height_desired - height\n",
    "    return error"
   ]
  },
  {
   "cell_type": "code",
   "execution_count": 51,
   "id": "6ae1f361",
   "metadata": {},
   "outputs": [],
   "source": [
    "def f_dma(dmdt_values, m0=0.25, c=0.18e-3, u=250):\n",
    "\n",
    "    errors = []\n",
    "    for dmdt in dmdt_values:\n",
    "        state = [0, 0, 0.25]\n",
    "        g = 9.81\n",
    "        y0, v, m = state\n",
    "        a = (u / m) * dmdt - g - c * v ** 2 / m\n",
    "        dmdt = -dmdt\n",
    "        dstate = np.array([v, a, dmdt])\n",
    "        mf = 0.05\n",
    "        t = np.linspace(0, (m0 - mf) / dmdt, 500)\n",
    "        dt = t[1] - t[0]\n",
    "        values2 = np.zeros((len(t), 3))\n",
    "        values2[0] = state\n",
    "        for i in range(len(t) - 1):\n",
    "            values2[i + 1] = rk2_step(values2[i], rocket, dt)\n",
    "        height = values2[-1, 0]\n",
    "        height_desired = 300\n",
    "        error = height_desired - height\n",
    "        errors.append(error)\n",
    "    return np.array(errors)"
   ]
  },
  {
   "cell_type": "code",
   "execution_count": 52,
   "id": "2958821c",
   "metadata": {},
   "outputs": [
    {
     "data": {
      "text/plain": [
       "array([-2091.50471277,  -688.2721263 ,  -239.99866866,   -40.41874844,\n",
       "          65.80536364,   129.05160645,   169.74569197,   197.46686544,\n",
       "         217.19710571,   231.73689499,   242.75909522,   251.31310283,\n",
       "         258.0842837 ,   263.53564275,   267.98909856,   271.67409636,\n",
       "         274.75774412,   277.3640832 ,   279.5867509 ,   281.49750313,\n",
       "         283.15207491,   284.59428823,   285.85898165,   286.97413275,\n",
       "         287.96241767,   288.8423724 ,   289.62926764,   290.33577552,\n",
       "         290.97248261,   291.5482886 ,   292.07071889,   292.54617153,\n",
       "         292.98011398,   293.37724088,   293.74160159,   294.07670367,\n",
       "         294.38559765,   294.67094665,   294.93508395,   295.18006082,\n",
       "         295.40768646,   295.61956147,   295.81710609,   296.00158399,\n",
       "         296.17412261,   296.33573034,   296.48731133,   296.62967817,\n",
       "         296.76356274,   296.88962569])"
      ]
     },
     "execution_count": 52,
     "metadata": {},
     "output_type": "execute_result"
    }
   ],
   "source": [
    "x = np.linspace(0.01,0.5,50)\n",
    "f_dma(x)"
   ]
  },
  {
   "cell_type": "code",
   "execution_count": 53,
   "id": "3efff696",
   "metadata": {},
   "outputs": [],
   "source": [
    "def incsearch(func,xmin,xmax,ns=50):\n",
    "\n",
    "    '''incsearch: incremental search root locator\n",
    "    xb = incsearch(func,xmin,xmax,ns):\n",
    "    finds brackets of x that contain sign changes\n",
    "    of a function on an interval\n",
    "    arguments:\n",
    "    ---------\n",
    "    func = name of function\n",
    "    xmin, xmax = endpoints of interval\n",
    "    ns = number of subintervals (default = 50)\n",
    "    returns:\n",
    "    ---------\n",
    "    xb(k,1) is the lower bound of the kth sign change\n",
    "    xb(k,2) is the upper bound of the kth sign change\n",
    "    If no brackets found, xb = [].'''\n",
    "    x = np.linspace(xmin,xmax,ns)\n",
    "    f = func(x)\n",
    "    sign_f = np.sign(f)\n",
    "    delta_sign_f = sign_f[1:]-sign_f[0:-1]\n",
    "    i_zeros = np.nonzero(delta_sign_f!=0)\n",
    "    nb = len(i_zeros[0])\n",
    "    xb = np.block([[ x[i_zeros[0]+1]],[x[i_zeros[0]] ]] )\n",
    "\n",
    "    if nb==0:\n",
    "        print('no brackets found\\n')\n",
    "        print('check interval or increase ns\\n')\n",
    "    else:\n",
    "        print('number of brackets: {}\\n'.format(nb))\n",
    "    return xb"
   ]
  },
  {
   "cell_type": "code",
   "execution_count": 54,
   "id": "b8377bb2",
   "metadata": {},
   "outputs": [
    {
     "name": "stdout",
     "output_type": "stream",
     "text": [
      "number of brackets: 1\n",
      "\n"
     ]
    },
    {
     "data": {
      "text/plain": [
       "array([[0.04344444],\n",
       "       [0.04288889]])"
      ]
     },
     "execution_count": 54,
     "metadata": {},
     "output_type": "execute_result"
    }
   ],
   "source": [
    "incsearch(f_dma, 0.039, 0.044, 10)"
   ]
  },
  {
   "cell_type": "code",
   "execution_count": 55,
   "id": "7e7766a2",
   "metadata": {},
   "outputs": [
    {
     "data": {
      "text/plain": [
       "-1.1840574529742298e-06"
      ]
     },
     "execution_count": 55,
     "metadata": {},
     "output_type": "execute_result"
    }
   ],
   "source": [
    "f_dm(0.043171166227047586)"
   ]
  },
  {
   "cell_type": "code",
   "execution_count": 56,
   "id": "aa82817e",
   "metadata": {},
   "outputs": [],
   "source": [
    "def mod_secant(func,dx,x0,es=0.0001,maxit=50):\n",
    "\n",
    "    '''mod_secant: Modified secant root location zeroes\n",
    "    root,[fx,ea,iter]=mod_secant(func,dfunc,xr,es,maxit,p1,p2,...):\n",
    "    uses modified secant method to find the root of func\n",
    "    arguments:\n",
    "    ----------\n",
    "    func = name of function\n",
    "    dx = perturbation fraction\n",
    "    xr = initial guess\n",
    "    es = desired relative error (default = 0.0001 )\n",
    "    maxit = maximum allowable iterations (default = 50)\n",
    "    p1,p2,... = additional parameters used by function\n",
    "    returns:\n",
    "    --------\n",
    "    root = real root\n",
    "    fx = func evaluated at root\n",
    "    ea = approximate relative error ( )\n",
    "    iter = number of iterations'''\n",
    "    iter = 0;\n",
    "    xr=x0\n",
    "    for iter in range(0,maxit):\n",
    "        xrold = xr;\n",
    "        dfunc=(func(xr+dx)-func(xr))/dx;\n",
    "        xr = xr - func(xr)/dfunc;\n",
    "        if xr != 0:\n",
    "            ea = abs((xr - xrold)/xr) * 100;\n",
    "        else:\n",
    "            ea = abs((xr - xrold)/1) * 100;\n",
    "        if ea <= es:\n",
    "            break\n",
    "    return xr,[func(xr),ea,iter]"
   ]
  },
  {
   "cell_type": "code",
   "execution_count": 57,
   "id": "b020aa49",
   "metadata": {},
   "outputs": [
    {
     "data": {
      "text/plain": [
       "(0.043171166227047586, [-1.1840574529742298e-06, 8.369062929699279e-06, 3])"
      ]
     },
     "execution_count": 57,
     "metadata": {},
     "output_type": "execute_result"
    }
   ],
   "source": [
    "mod_secant(f_dm, 0.001,0.043)"
   ]
  },
  {
   "cell_type": "code",
   "execution_count": 58,
   "id": "ea9689c7",
   "metadata": {},
   "outputs": [
    {
     "data": {
      "text/plain": [
       "0.043171169509054384"
      ]
     },
     "execution_count": 58,
     "metadata": {},
     "output_type": "execute_result"
    }
   ],
   "source": [
    "mod_secant(f_dm,0.01,0.043)[0]"
   ]
  },
  {
   "cell_type": "code",
   "execution_count": 59,
   "id": "497469b4",
   "metadata": {},
   "outputs": [],
   "source": [
    "def high(dmdt, m0 = 0.25, c = 0.18e-3, u = 250):\n",
    "    ''' define a function f_dm(dmdt) that returns\n",
    "    height_desired-height_predicted[-1]\n",
    "    here, the time span is based upon the value of dmdt\n",
    "    arguments:\n",
    "    ---------\n",
    "    dmdt: the unknown mass change rate\n",
    "    m0: the known initial mass\n",
    "    c: the known drag in kg/m\n",
    "    u: the known speed of the propellent\n",
    "    returns:\n",
    "    --------\n",
    "    error: the difference between height_desired and height_predicted[-1]\n",
    "    when f_dm(dmdt) = 0, the correct mass change rate was chosen\n",
    "    '''\n",
    "    state = [0,0,0.25]\n",
    "    g=9.81\n",
    "    dstate = np.zeros(np.shape(state))\n",
    "    y0 = state[0]\n",
    "    v = state[1]\n",
    "    m = state[2]\n",
    "    a = (u/m)*dmdt-g-c*v**2/m\n",
    "    dmdt = -dmdt\n",
    "    dstate = np.array([v,a,dmdt])\n",
    "    # values is the time integral of dstate, which is equal to [y,v,m]\n",
    "    mf=0.05\n",
    "    t = np.linspace(0,(m0-mf)/dmdt,500)\n",
    "    dt=t[1]-t[0]\n",
    "    values2 = np.zeros((len(t),3))\n",
    "    values2[0] = state\n",
    "    for i in range(len(t)-1):\n",
    "        values2[i+1] = rk2_step(values2[i], rocket, dt)\n",
    "    height = (values2[:,0])\n",
    "    return height"
   ]
  },
  {
   "cell_type": "code",
   "execution_count": 60,
   "id": "fadc59c9",
   "metadata": {},
   "outputs": [],
   "source": [
    "rheight = high(mod_secant(f_dm,0.01,0.043)[0])"
   ]
  },
  {
   "cell_type": "code",
   "execution_count": 61,
   "id": "465d01b7",
   "metadata": {},
   "outputs": [
    {
     "data": {
      "image/png": "[encoded data removed]",
      "text/plain": [
       "<Figure size 432x288 with 1 Axes>"
      ]
     },
     "metadata": {},
     "output_type": "display_data"
    }
   ],
   "source": [
    "plt.plot(t,rheight);\n",
    "plt.plot(t[-1],rheight[-1], '*', markersize = 25)\n",
    "plt.title('Rocket height over time');\n",
    "plt.ylim(0,325);\n",
    "plt.ylabel('Height');\n",
    "plt.xlabel('Time');"
   ]
  },
  {
   "cell_type": "code",
   "execution_count": null,
   "id": "f7cf97d8",
   "metadata": {},
   "outputs": [],
   "source": []
  }
 ],
 "metadata": {
  "kernelspec": {
   "display_name": "Python 3 (ipykernel)",
   "language": "python",
   "name": "python3"
  },
  "language_info": {
   "codemirror_mode": {
    "name": "ipython",
    "version": 3
   },
   "file_extension": ".py",
   "mimetype": "text/x-python",
   "name": "python",
   "nbconvert_exporter": "python",
   "pygments_lexer": "ipython3",
   "version": "3.9.6"
  }
 },
 "nbformat": 4,
 "nbformat_minor": 5
}
